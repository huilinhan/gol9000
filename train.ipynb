{
 "cells": [
  {
   "cell_type": "code",
   "execution_count": 8,
   "metadata": {},
   "outputs": [],
   "source": [
    "#!pip install openai --upgrade\n",
    "#!pip install langchain --upgrade\n",
    "#!pip install llama-index --upgrade\n",
    "#!pip install python-dotenv"
   ]
  },
  {
   "cell_type": "code",
   "execution_count": 6,
   "metadata": {},
   "outputs": [],
   "source": [
    "import os\n",
    "import openai\n",
    "from dotenv import load_dotenv\n",
    "from llama_index import GPTVectorStoreIndex, SimpleDirectoryReader, PromptHelper, LangchainEmbedding, ServiceContext\n",
    "from llama_index.llms import AzureOpenAI\n",
    "from langchain.embeddings import OpenAIEmbeddings"
   ]
  },
  {
   "cell_type": "code",
   "execution_count": 7,
   "metadata": {},
   "outputs": [],
   "source": [
    "\n",
    "\n",
    "# Load environment variables (set OPENAI_API_KEY and OPENAI_API_BASE in .env)\n",
    "load_dotenv()\n",
    "\n",
    "# Configure Azure OpenAI Service API\n",
    "openai.api_type = \"azure\"\n",
    "openai.api_base = os.getenv('OPENAI_API_BASE')\n",
    "openai.api_key = os.getenv(\"OPENAI_API_KEY\")\n",
    "openai.api_version = os.getenv('OPENAI_API_VERSION')\n",
    "# openai.log = \"debug\""
   ]
  },
  {
   "cell_type": "code",
   "execution_count": 12,
   "metadata": {},
   "outputs": [
    {
     "name": "stdout",
     "output_type": "stream",
     "text": [
      "Query: What are the errors in the data?\n",
      "Answer: There are no errors in the data.\n",
      "Sources: > Source (Doc id: f697cb04-5b8d-41f8-8f5c-a40f78f8274f): might be system one\n",
      "-- Library SevenZip not found in package, might be system one\n",
      "-- Library File...\n",
      "\n",
      "> Source (Doc id: 6ac902c3-808d-426e-9754-07687af93c2d): TrussTools/1.8.101@keysight/stable: WARN: Lib folder doesn't exist, can't collect libraries: C:\\....\n"
     ]
    }
   ],
   "source": [
    "\n",
    "\n",
    "# Initialize LLM and Embeddings model (model is the actual model name, e.g., gpt-35-turbo, engine is your custom deployment name, e.g., my-gpt-35-turbo)\n",
    "llm = AzureOpenAI(engine=\"loveadagpt3516k_2\", model=\"gpt-35-turbo-16k\", temperature=0.0)\n",
    "embeddings = LangchainEmbedding(OpenAIEmbeddings(deployment_id=\"loveadaembed2\", chunk_size=1))\n",
    "\n",
    "# Define prompt helper\n",
    "prompt_helper = PromptHelper(context_window=3000, \n",
    "                             num_output=500, \n",
    "                             chunk_overlap_ratio=0.1, \n",
    "                             chunk_size_limit=1000)\n",
    "\n",
    "service_context = ServiceContext.from_defaults(llm=llm, embed_model=embeddings, prompt_helper=prompt_helper)\n",
    "\n",
    "# Load documents\n",
    "documents = SimpleDirectoryReader('data/').load_data()\n",
    "\n",
    "# Create index\n",
    "index = GPTVectorStoreIndex.from_documents(documents, service_context=service_context, prompt_helper=prompt_helper)\n",
    "query_engine = index.as_query_engine(service_context=service_context, verbose=True)\n",
    "\n",
    "query = \"What are the errors in the data?\"\n",
    "answer = query_engine.query(query)\n",
    "\n",
    "print(f\"Query: {query}\")\n",
    "print(f\"Answer: {answer}\")\n",
    "print(f\"Sources: {answer.get_formatted_sources()}\")"
   ]
  },
  {
   "cell_type": "code",
   "execution_count": null,
   "metadata": {},
   "outputs": [],
   "source": []
  }
 ],
 "metadata": {
  "kernelspec": {
   "display_name": "Python 3",
   "language": "python",
   "name": "python3"
  },
  "language_info": {
   "codemirror_mode": {
    "name": "ipython",
    "version": 3
   },
   "file_extension": ".py",
   "mimetype": "text/x-python",
   "name": "python",
   "nbconvert_exporter": "python",
   "pygments_lexer": "ipython3",
   "version": "3.10.11"
  },
  "orig_nbformat": 4
 },
 "nbformat": 4,
 "nbformat_minor": 2
}
